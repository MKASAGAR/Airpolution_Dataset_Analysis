{
  "nbformat": 4,
  "nbformat_minor": 0,
  "metadata": {
    "colab": {
      "provenance": [],
      "authorship_tag": "ABX9TyOVpbZwMfx1JFvay8qtg2ln",
      "include_colab_link": true
    },
    "kernelspec": {
      "name": "python3",
      "display_name": "Python 3"
    },
    "language_info": {
      "name": "python"
    }
  },
  "cells": [
    {
      "cell_type": "markdown",
      "metadata": {
        "id": "view-in-github",
        "colab_type": "text"
      },
      "source": [
        "<a href=\"https://colab.research.google.com/github/MKASAGAR/Airpolution_Dataset_Analysis/blob/main/Aiepredictin02.ipynb\" target=\"_parent\"><img src=\"https://colab.research.google.com/assets/colab-badge.svg\" alt=\"Open In Colab\"/></a>"
      ]
    },
    {
      "cell_type": "code",
      "execution_count": 1,
      "metadata": {
        "colab": {
          "base_uri": "https://localhost:8080/"
        },
        "id": "DN5bE76Y4VrJ",
        "outputId": "59907802-2c9a-49d4-ce61-918bc5ae4f9b"
      },
      "outputs": [
        {
          "output_type": "stream",
          "name": "stdout",
          "text": [
            "                     Date      Time  PM2.5 PM2.5 AQI\n",
            "0                1/1/2013   1:00 AM  324.4       238\n",
            "1                1/1/2013   2:00 AM  366.8       243\n",
            "2                1/1/2013   3:00 AM  290.7       250\n",
            "3                1/1/2013   4:00 AM  245.4       254\n",
            "4                1/1/2013   5:00 AM  220.3       259\n",
            "...                   ...       ...    ...       ...\n",
            "8755           31/12/2013   8:00 PM    126       178\n",
            "8756           31/12/2013   9:00 PM    124       175\n",
            "8757           31/12/2013  10:00 PM    125       173\n",
            "8758           31/12/2013  11:00 PM    210       170\n",
            "8759  31/12/2013 24:00 AM       NaN    242       172\n",
            "\n",
            "[8760 rows x 4 columns]\n"
          ]
        }
      ],
      "source": [
        "import pandas as pd\n",
        "data = pd.read_csv('/content/aqi2013.csv')\n",
        "print(data)"
      ]
    },
    {
      "cell_type": "code",
      "source": [],
      "metadata": {
        "id": "eQ2XeoXj5CmA"
      },
      "execution_count": null,
      "outputs": []
    }
  ]
}